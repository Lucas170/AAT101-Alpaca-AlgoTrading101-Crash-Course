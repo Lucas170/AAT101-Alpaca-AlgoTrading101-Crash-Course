{
 "cells": [
  {
   "cell_type": "code",
   "execution_count": 1,
   "metadata": {},
   "outputs": [],
   "source": [
    "import alpaca_trade_api as tradeapi\n",
    "import time\n",
    "import requests\n",
    "import logging"
   ]
  },
  {
   "cell_type": "code",
   "execution_count": 2,
   "metadata": {},
   "outputs": [],
   "source": [
    "def send(text):\n",
    "    token = '<insert your access token>'\n",
    "    your_id = '<insert your id>'\n",
    "    params = {'chat_id': your_id, 'text': text, 'parse_mode': 'HTML'}\n",
    "    resp = requests.post('https://api.telegram.org/bot{}/sendMessage'.format(token), params)\n",
    "    resp.raise_for_status()"
   ]
  },
  {
   "cell_type": "code",
   "execution_count": 3,
   "metadata": {},
   "outputs": [],
   "source": [
    "logging.basicConfig(level=logging.INFO, format='%(asctime)s: %(levelname)s: %(message)s')"
   ]
  },
  {
   "cell_type": "code",
   "execution_count": 4,
   "metadata": {},
   "outputs": [
    {
     "data": {
      "text/plain": [
       "Account({   'account_blocked': False,\n",
       "    'account_number': 'PA2E0F7YERPO',\n",
       "    'buying_power': '456753.56',\n",
       "    'cash': '113665.85',\n",
       "    'created_at': '2020-11-17T17:28:00.960389Z',\n",
       "    'currency': 'USD',\n",
       "    'daytrade_count': 0,\n",
       "    'daytrading_buying_power': '456753.56',\n",
       "    'equity': '114363.37',\n",
       "    'id': '7f81289d-15ed-40ed-85a3-1e831cce3b12',\n",
       "    'initial_margin': '348.76',\n",
       "    'last_equity': '114362.57',\n",
       "    'last_maintenance_margin': '0',\n",
       "    'long_market_value': '697.52',\n",
       "    'maintenance_margin': '209.256',\n",
       "    'multiplier': '4',\n",
       "    'pattern_day_trader': False,\n",
       "    'portfolio_value': '114363.37',\n",
       "    'regt_buying_power': '228029.22',\n",
       "    'short_market_value': '0',\n",
       "    'shorting_enabled': True,\n",
       "    'sma': '0',\n",
       "    'status': 'ACTIVE',\n",
       "    'trade_suspended_by_user': False,\n",
       "    'trading_blocked': False,\n",
       "    'transfers_blocked': False})"
      ]
     },
     "execution_count": 4,
     "metadata": {},
     "output_type": "execute_result"
    }
   ],
   "source": [
    "\n",
    "api = tradeapi.REST('<insert api ID>', '<insert secret>', base_url='https://paper-api.alpaca.markets') \n",
    "account = api.get_account()\n",
    "account\n",
    "\n",
    "# https://github.com/alpacahq/alpaca-trade-api-python/tree/cd22b3393aff8df214d867b6a4723a21ea34a3c0"
   ]
  },
  {
   "cell_type": "code",
   "execution_count": 5,
   "metadata": {},
   "outputs": [
    {
     "name": "stderr",
     "output_type": "stream",
     "text": [
      "2021-04-28 23:28:11,877: INFO: Note: NumExpr detected 12 cores but \"NUMEXPR_MAX_THREADS\" not set, so enforcing safe limit of 8.\n",
      "2021-04-28 23:28:11,879: INFO: NumExpr defaulting to 8 threads.\n",
      "2021-04-28 23:28:15,273: INFO: Order status for buy trade: accepted\n"
     ]
    },
    {
     "name": "stdout",
     "output_type": "stream",
     "text": [
      "TSLA current price: 697.21\n",
      "Percent change for TSLA over the last 5 days: -6.277641112500159\n"
     ]
    },
    {
     "ename": "KeyboardInterrupt",
     "evalue": "",
     "output_type": "error",
     "traceback": [
      "\u001b[1;31m---------------------------------------------------------------------------\u001b[0m",
      "\u001b[1;31mKeyboardInterrupt\u001b[0m                         Traceback (most recent call last)",
      "\u001b[1;32m<ipython-input-5-f427b234bd84>\u001b[0m in \u001b[0;36m<module>\u001b[1;34m\u001b[0m\n\u001b[0;32m     31\u001b[0m     \u001b[0mprint\u001b[0m\u001b[1;33m(\u001b[0m\u001b[1;34mf'TSLA current price: {today_close}'\u001b[0m\u001b[1;33m)\u001b[0m\u001b[1;33m\u001b[0m\u001b[1;33m\u001b[0m\u001b[0m\n\u001b[0;32m     32\u001b[0m     \u001b[0mprint\u001b[0m\u001b[1;33m(\u001b[0m\u001b[1;34mf'Percent change for TSLA over the last 5 days: {percent_change}'\u001b[0m\u001b[1;33m)\u001b[0m\u001b[1;33m\u001b[0m\u001b[1;33m\u001b[0m\u001b[0m\n\u001b[1;32m---> 33\u001b[1;33m     \u001b[0mtime\u001b[0m\u001b[1;33m.\u001b[0m\u001b[0msleep\u001b[0m\u001b[1;33m(\u001b[0m\u001b[1;36m10\u001b[0m\u001b[1;33m)\u001b[0m\u001b[1;33m\u001b[0m\u001b[1;33m\u001b[0m\u001b[0m\n\u001b[0m\u001b[0;32m     34\u001b[0m \u001b[1;33m\u001b[0m\u001b[0m\n\u001b[0;32m     35\u001b[0m \u001b[0morder_info\u001b[0m\u001b[1;33m\u001b[0m\u001b[1;33m\u001b[0m\u001b[0m\n",
      "\u001b[1;31mKeyboardInterrupt\u001b[0m: "
     ]
    }
   ],
   "source": [
    "order_sent = None\n",
    "\n",
    "while not order_sent:\n",
    "\n",
    "    barset = api.get_barset('TSLA',\n",
    "               'day',\n",
    "               limit = 10).df['TSLA']\n",
    "\n",
    "    today_close = barset['close'][-1]\n",
    "    five_days_ago_close = barset['close'][-6]\n",
    "\n",
    "    percent_change = (today_close - five_days_ago_close)/five_days_ago_close*100\n",
    "\n",
    "    order_info = None\n",
    "    direction = 'buy'\n",
    "    \n",
    "    if percent_change > 5:\n",
    "        order_info = api.submit_order(\n",
    "        symbol='TSLA',\n",
    "        side=direction,\n",
    "        type='market',\n",
    "        qty='1',\n",
    "        time_in_force='day',\n",
    "        )\n",
    "        time.sleep(3)\n",
    "        if order_info.status == 'accepted':\n",
    "            order_sent = True\n",
    "            logging.info(f'Order status for {direction} trade: {order_info.status}') # Feel free to include details such as order entry price.\n",
    "            send(f'Order status for {direction} trade: {order_info.status}') # Feel free to include details such as order entry price.\n",
    "    \n",
    "    print(f'TSLA current price: {today_close}')\n",
    "    print(f'Percent change for TSLA over the last 5 days: {percent_change}')\n",
    "    time.sleep(10)\n",
    "    \n",
    "order_info"
   ]
  },
  {
   "cell_type": "code",
   "execution_count": null,
   "metadata": {},
   "outputs": [],
   "source": []
  }
 ],
 "metadata": {
  "kernelspec": {
   "display_name": "Python 3",
   "language": "python",
   "name": "python3"
  },
  "language_info": {
   "codemirror_mode": {
    "name": "ipython",
    "version": 3
   },
   "file_extension": ".py",
   "mimetype": "text/x-python",
   "name": "python",
   "nbconvert_exporter": "python",
   "pygments_lexer": "ipython3",
   "version": "3.8.5"
  }
 },
 "nbformat": 4,
 "nbformat_minor": 4
}
