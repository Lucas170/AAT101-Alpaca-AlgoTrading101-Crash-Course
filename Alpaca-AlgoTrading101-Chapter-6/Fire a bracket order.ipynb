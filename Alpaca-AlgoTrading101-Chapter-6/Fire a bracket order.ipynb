{
 "cells": [
  {
   "cell_type": "code",
   "execution_count": null,
   "metadata": {},
   "outputs": [],
   "source": [
    "import alpaca_trade_api as tradeapi\n",
    "\n",
    "api = tradeapi.REST('<insert api key>', '<insert secret key>', base_url='https://paper-api.alpaca.markets') \n",
    "\n",
    "# alpaca_trade_api Github repo: https://github.com/alpacahq/alpaca-trade-api-python/tree/cd22b3393aff8df214d867b6a4723a21ea34a3c0\n",
    "# Info on bracket orders https://alpaca.markets/blog/bracket-orders/"
   ]
  },
  {
   "cell_type": "code",
   "execution_count": null,
   "metadata": {},
   "outputs": [],
   "source": [
    "barset = api.get_barset('TSLA', 'day', limit = 10).df['TSLA']\n",
    "\n",
    "today_close = barset['close'][-1]\n",
    "\n",
    "# These are for long trades. Flip the numbers around for short trades.\n",
    "TP = today_close*1.2 # 20% TP\n",
    "SL = today_close*0.8 # 20% SL"
   ]
  },
  {
   "cell_type": "code",
   "execution_count": null,
   "metadata": {
    "scrolled": true
   },
   "outputs": [],
   "source": [
    "# Market order\n",
    "\n",
    "order_info = None\n",
    "\n",
    "order_info = api.submit_order(\n",
    "    symbol='TSLA',\n",
    "    side='buy',\n",
    "    type='market',\n",
    "    qty='1',\n",
    "    time_in_force='day',\n",
    "    extended_hours=False, # Has to be False\n",
    "    order_class='bracket',\n",
    "    stop_loss=dict(stop_price=SL), \n",
    "    take_profit=dict(limit_price=TP)\n",
    "    )\n",
    "        \n",
    "print(order_info)"
   ]
  },
  {
   "cell_type": "code",
   "execution_count": null,
   "metadata": {
    "scrolled": true
   },
   "outputs": [],
   "source": [
    "# Limit order\n",
    "\n",
    "order_info = None\n",
    "\n",
    "order_info = api.submit_order(\n",
    "    symbol='TSLA',\n",
    "    side='buy',\n",
    "    type='limit',\n",
    "    limit_price=today_close-100,\n",
    "    qty='1',\n",
    "    time_in_force='day',\n",
    "    extended_hours=False, # Has to be False\n",
    "    order_class='bracket',\n",
    "    stop_loss=dict(stop_price=SL-100), \n",
    "    take_profit=dict(limit_price=TP+100)\n",
    "    )\n",
    "        \n",
    "print(order_info)\n",
    "\n"
   ]
  },
  {
   "cell_type": "code",
   "execution_count": null,
   "metadata": {},
   "outputs": [],
   "source": [
    "# Additional info on how to retrieve the order ID of the TP and SL orders\n",
    "\n",
    "if order_info.legs[0].type == 'limit':\n",
    "    tp_order_id = order_info.legs[0].id\n",
    "    sl_order_id = order_info.legs[1].id\n",
    "    \n",
    "elif order_info.legs[0].type == 'stop':\n",
    "    tp_order_id = order_info.legs[1].id\n",
    "    sl_order_id = order_info.legs[0].id\n",
    "\n",
    "print(f'TP Order ID: {tp_order_id}')\n",
    "print(f'TP Level: {api.get_order(tp_order_id).limit_price}')\n",
    "print(f'SL Order ID: {sl_order_id}')\n",
    "print(f'SL Level: {api.get_order(sl_order_id).stop_price}')\n",
    "\n",
    "# Looking for the status change"
   ]
  },
  {
   "cell_type": "code",
   "execution_count": null,
   "metadata": {},
   "outputs": [],
   "source": [
    "api.get_order(tp_order_id)"
   ]
  },
  {
   "cell_type": "code",
   "execution_count": null,
   "metadata": {},
   "outputs": [],
   "source": [
    "api.get_order(sl_order_id)"
   ]
  },
  {
   "cell_type": "code",
   "execution_count": null,
   "metadata": {},
   "outputs": [],
   "source": [
    "api.cancel_order(tp_order_id) # Cancel the TP"
   ]
  },
  {
   "cell_type": "code",
   "execution_count": null,
   "metadata": {},
   "outputs": [],
   "source": []
  },
  {
   "cell_type": "code",
   "execution_count": null,
   "metadata": {},
   "outputs": [],
   "source": []
  }
 ],
 "metadata": {
  "kernelspec": {
   "display_name": "Python 3",
   "language": "python",
   "name": "python3"
  },
  "language_info": {
   "codemirror_mode": {
    "name": "ipython",
    "version": 3
   },
   "file_extension": ".py",
   "mimetype": "text/x-python",
   "name": "python",
   "nbconvert_exporter": "python",
   "pygments_lexer": "ipython3",
   "version": "3.8.5"
  }
 },
 "nbformat": 4,
 "nbformat_minor": 4
}
