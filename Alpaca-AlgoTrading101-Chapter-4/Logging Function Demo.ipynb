{
 "cells": [
  {
   "cell_type": "code",
   "execution_count": 1,
   "metadata": {},
   "outputs": [],
   "source": [
    "# Step 1: Import the logging function\n",
    "\n",
    "import logging"
   ]
  },
  {
   "cell_type": "code",
   "execution_count": 2,
   "metadata": {},
   "outputs": [],
   "source": [
    "# Step 2: Set the logging output style\n",
    "\n",
    "logging.basicConfig(\n",
    "    level=logging.INFO, # This means that all logs lower than the INFO priority will not be shown.\n",
    "    format='%(asctime)s: %(levelname)s: %(message)s'\n",
    ")\n"
   ]
  },
  {
   "cell_type": "markdown",
   "metadata": {},
   "source": [
    "### Examples"
   ]
  },
  {
   "cell_type": "code",
   "execution_count": 3,
   "metadata": {},
   "outputs": [],
   "source": [
    "# Step 3: Print the logs"
   ]
  },
  {
   "cell_type": "code",
   "execution_count": 4,
   "metadata": {},
   "outputs": [
    {
     "name": "stderr",
     "output_type": "stream",
     "text": [
      "2021-02-09 00:02:33,342: CRITICAL: This is of CRITICAL priority\n"
     ]
    }
   ],
   "source": [
    "logging.critical('This is of CRITICAL priority')"
   ]
  },
  {
   "cell_type": "code",
   "execution_count": 5,
   "metadata": {},
   "outputs": [
    {
     "name": "stderr",
     "output_type": "stream",
     "text": [
      "2021-02-09 00:02:33,352: ERROR: This is of ERROR priority\n"
     ]
    }
   ],
   "source": [
    "logging.error('This is of ERROR priority')"
   ]
  },
  {
   "cell_type": "code",
   "execution_count": 6,
   "metadata": {},
   "outputs": [
    {
     "name": "stderr",
     "output_type": "stream",
     "text": [
      "2021-02-09 00:02:33,359: WARNING: This is of WARNING priority\n"
     ]
    }
   ],
   "source": [
    "logging.warning('This is of WARNING priority')"
   ]
  },
  {
   "cell_type": "code",
   "execution_count": 7,
   "metadata": {},
   "outputs": [
    {
     "name": "stderr",
     "output_type": "stream",
     "text": [
      "2021-02-09 00:02:33,365: INFO: This is of INFO priority\n"
     ]
    }
   ],
   "source": [
    "logging.info('This is of INFO priority')"
   ]
  },
  {
   "cell_type": "code",
   "execution_count": 8,
   "metadata": {},
   "outputs": [],
   "source": [
    "logging.debug('This is of DEBUG priority') # This message will not be shown as it is below the INFO priority."
   ]
  }
 ],
 "metadata": {
  "kernelspec": {
   "display_name": "Python 3",
   "language": "python",
   "name": "python3"
  },
  "language_info": {
   "codemirror_mode": {
    "name": "ipython",
    "version": 3
   },
   "file_extension": ".py",
   "mimetype": "text/x-python",
   "name": "python",
   "nbconvert_exporter": "python",
   "pygments_lexer": "ipython3",
   "version": "3.8.5"
  }
 },
 "nbformat": 4,
 "nbformat_minor": 4
}
