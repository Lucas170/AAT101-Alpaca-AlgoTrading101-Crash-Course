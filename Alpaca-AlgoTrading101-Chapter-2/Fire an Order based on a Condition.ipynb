{
 "cells": [
  {
   "cell_type": "code",
   "execution_count": null,
   "metadata": {},
   "outputs": [],
   "source": [
    "import alpaca_trade_api as tradeapi\n",
    "\n",
    "api = tradeapi.REST('<insert key ID>', '<insert secret>', base_url='https://paper-api.alpaca.markets') \n",
    "account = api.get_account()\n",
    "account\n",
    "\n",
    "# https://github.com/alpacahq/alpaca-trade-api-python/tree/cd22b3393aff8df214d867b6a4723a21ea34a3c0"
   ]
  },
  {
   "cell_type": "code",
   "execution_count": null,
   "metadata": {},
   "outputs": [],
   "source": [
    "barset = api.get_barset('TSLA',\n",
    "           'day',\n",
    "           limit = 10).df['TSLA']\n",
    "barset"
   ]
  },
  {
   "cell_type": "code",
   "execution_count": null,
   "metadata": {},
   "outputs": [],
   "source": [
    "today_close = barset['close'][-1]\n",
    "today_close"
   ]
  },
  {
   "cell_type": "code",
   "execution_count": null,
   "metadata": {},
   "outputs": [],
   "source": [
    "\n",
    "five_days_ago_open = barset['open'][-6]\n",
    "today_close = barset['close'][-1]\n",
    "\n",
    "percent_change = (today_close - five_days_ago_open)/five_days_ago_open*100\n",
    "order_info = None\n",
    "\n",
    "if percent_change > 5:\n",
    "    order_info = api.submit_order(\n",
    "    symbol='TSLA',\n",
    "    side='buy',\n",
    "    type='market',\n",
    "    qty='1',\n",
    "    time_in_force='day',\n",
    "    )\n",
    "        \n",
    "order_info"
   ]
  }
 ],
 "metadata": {
  "kernelspec": {
   "display_name": "Python 3",
   "language": "python",
   "name": "python3"
  },
  "language_info": {
   "codemirror_mode": {
    "name": "ipython",
    "version": 3
   },
   "file_extension": ".py",
   "mimetype": "text/x-python",
   "name": "python",
   "nbconvert_exporter": "python",
   "pygments_lexer": "ipython3",
   "version": "3.8.5"
  }
 },
 "nbformat": 4,
 "nbformat_minor": 4
}
