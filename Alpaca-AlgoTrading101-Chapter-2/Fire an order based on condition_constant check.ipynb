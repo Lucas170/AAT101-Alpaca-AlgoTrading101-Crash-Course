{
 "cells": [
  {
   "cell_type": "code",
   "execution_count": 1,
   "metadata": {},
   "outputs": [
    {
     "data": {
      "text/plain": [
       "Account({   'account_blocked': False,\n",
       "    'account_number': 'PA2E0F7YERPO',\n",
       "    'buying_power': '408238.72',\n",
       "    'cash': '102063.82',\n",
       "    'created_at': '2020-11-17T17:28:00.960389Z',\n",
       "    'currency': 'USD',\n",
       "    'daytrade_count': 66,\n",
       "    'daytrading_buying_power': '408238.72',\n",
       "    'equity': '102063.82',\n",
       "    'id': '7f81289d-15ed-40ed-85a3-1e831cce3b12',\n",
       "    'initial_margin': '0',\n",
       "    'last_equity': '102059.68',\n",
       "    'last_maintenance_margin': '0',\n",
       "    'long_market_value': '0',\n",
       "    'maintenance_margin': '0',\n",
       "    'multiplier': '4',\n",
       "    'pattern_day_trader': False,\n",
       "    'portfolio_value': '102063.82',\n",
       "    'regt_buying_power': '204127.64',\n",
       "    'short_market_value': '0',\n",
       "    'shorting_enabled': True,\n",
       "    'sma': '0',\n",
       "    'status': 'ACTIVE',\n",
       "    'trade_suspended_by_user': False,\n",
       "    'trading_blocked': False,\n",
       "    'transfers_blocked': False})"
      ]
     },
     "execution_count": 1,
     "metadata": {},
     "output_type": "execute_result"
    }
   ],
   "source": [
    "import alpaca_trade_api as tradeapi\n",
    "import time\n",
    "\n",
    "api = tradeapi.REST('<insert api ID>', '<insert secret>', base_url='https://paper-api.alpaca.markets') \n",
    "account = api.get_account()\n",
    "account\n",
    "\n",
    "# https://github.com/alpacahq/alpaca-trade-api-python/tree/cd22b3393aff8df214d867b6a4723a21ea34a3c0"
   ]
  },
  {
   "cell_type": "code",
   "execution_count": 2,
   "metadata": {},
   "outputs": [
    {
     "name": "stdout",
     "output_type": "stream",
     "text": [
      "730.8813\n"
     ]
    },
    {
     "data": {
      "text/plain": [
       "Order({   'asset_class': 'us_equity',\n",
       "    'asset_id': '8ccae427-5dd0-45b3-b5fe-7ba5e422c766',\n",
       "    'canceled_at': None,\n",
       "    'client_order_id': '0adaa3f8-ca63-4a10-b41d-b5f396310cd7',\n",
       "    'created_at': '2021-01-04T20:28:55.400196Z',\n",
       "    'expired_at': None,\n",
       "    'extended_hours': False,\n",
       "    'failed_at': None,\n",
       "    'filled_at': None,\n",
       "    'filled_avg_price': None,\n",
       "    'filled_qty': '0',\n",
       "    'hwm': None,\n",
       "    'id': 'ca21a098-f3be-42af-80b1-65e62b4042cb',\n",
       "    'legs': None,\n",
       "    'limit_price': None,\n",
       "    'order_class': '',\n",
       "    'order_type': 'market',\n",
       "    'qty': '1',\n",
       "    'replaced_at': None,\n",
       "    'replaced_by': None,\n",
       "    'replaces': None,\n",
       "    'side': 'buy',\n",
       "    'status': 'accepted',\n",
       "    'stop_price': None,\n",
       "    'submitted_at': '2021-01-04T20:28:55.394877Z',\n",
       "    'symbol': 'TSLA',\n",
       "    'time_in_force': 'day',\n",
       "    'trail_percent': None,\n",
       "    'trail_price': None,\n",
       "    'type': 'market',\n",
       "    'updated_at': '2021-01-04T20:28:55.400196Z'})"
      ]
     },
     "execution_count": 2,
     "metadata": {},
     "output_type": "execute_result"
    }
   ],
   "source": [
    "order_sent = None\n",
    "\n",
    "while not order_sent:\n",
    "\n",
    "    barset = api.get_barset('TSLA',\n",
    "               'day',\n",
    "               limit = 10).df['TSLA']\n",
    "\n",
    "    today_close = barset['close'][-1]\n",
    "    five_days_ago_close = barset['close'][-6]\n",
    "\n",
    "    percent_change = (today_close - five_days_ago_close)/five_days_ago_close*100\n",
    "\n",
    "    order_info = None\n",
    "\n",
    "    if percent_change > 5:\n",
    "        order_info = api.submit_order(\n",
    "        symbol='TSLA',\n",
    "        side='buy',\n",
    "        type='market',\n",
    "        qty='1',\n",
    "        time_in_force='day',\n",
    "        )\n",
    "        if order_info.status == 'accepted':\n",
    "            order_sent = True\n",
    "    \n",
    "    print(today_close)\n",
    "    time.sleep(10)\n",
    "    \n",
    "order_info"
   ]
  },
  {
   "cell_type": "code",
   "execution_count": null,
   "metadata": {},
   "outputs": [],
   "source": []
  }
 ],
 "metadata": {
  "kernelspec": {
   "display_name": "Python 3",
   "language": "python",
   "name": "python3"
  },
  "language_info": {
   "codemirror_mode": {
    "name": "ipython",
    "version": 3
   },
   "file_extension": ".py",
   "mimetype": "text/x-python",
   "name": "python",
   "nbconvert_exporter": "python",
   "pygments_lexer": "ipython3",
   "version": "3.8.5"
  }
 },
 "nbformat": 4,
 "nbformat_minor": 4
}
