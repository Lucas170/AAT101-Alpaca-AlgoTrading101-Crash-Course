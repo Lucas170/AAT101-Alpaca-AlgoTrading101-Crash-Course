{
 "cells": [
  {
   "cell_type": "markdown",
   "metadata": {},
   "source": [
    "# How can I use indicators?"
   ]
  },
  {
   "cell_type": "code",
   "execution_count": 1,
   "metadata": {},
   "outputs": [],
   "source": [
    "import alpaca_trade_api as tradeapi"
   ]
  },
  {
   "cell_type": "code",
   "execution_count": 3,
   "metadata": {},
   "outputs": [],
   "source": [
    "api_key = '<insert api key>'\n",
    "api_secret = '<insert secret>'\n",
    "base_url = 'https://paper-api.alpaca.markets'\n",
    "\n",
    "api = tradeapi.REST(api_key, api_secret, base_url, api_version='v2')"
   ]
  },
  {
   "cell_type": "markdown",
   "metadata": {},
   "source": [
    "Make an API call to get some data to calculate indicators on"
   ]
  },
  {
   "cell_type": "code",
   "execution_count": 6,
   "metadata": {},
   "outputs": [],
   "source": [
    "barset = api.get_barset('MSFT', 'day')\n",
    "MSFT = barset['MSFT']"
   ]
  },
  {
   "cell_type": "markdown",
   "metadata": {},
   "source": [
    "A Pandas DataFrame is automatically created by the library. It can be seen by accessing the **df** attribute"
   ]
  },
  {
   "cell_type": "code",
   "execution_count": 7,
   "metadata": {},
   "outputs": [
    {
     "data": {
      "text/html": [
       "<div>\n",
       "<style scoped>\n",
       "    .dataframe tbody tr th:only-of-type {\n",
       "        vertical-align: middle;\n",
       "    }\n",
       "\n",
       "    .dataframe tbody tr th {\n",
       "        vertical-align: top;\n",
       "    }\n",
       "\n",
       "    .dataframe thead th {\n",
       "        text-align: right;\n",
       "    }\n",
       "</style>\n",
       "<table border=\"1\" class=\"dataframe\">\n",
       "  <thead>\n",
       "    <tr style=\"text-align: right;\">\n",
       "      <th></th>\n",
       "      <th>open</th>\n",
       "      <th>high</th>\n",
       "      <th>low</th>\n",
       "      <th>close</th>\n",
       "      <th>volume</th>\n",
       "    </tr>\n",
       "    <tr>\n",
       "      <th>time</th>\n",
       "      <th></th>\n",
       "      <th></th>\n",
       "      <th></th>\n",
       "      <th></th>\n",
       "      <th></th>\n",
       "    </tr>\n",
       "  </thead>\n",
       "  <tbody>\n",
       "    <tr>\n",
       "      <th>2020-08-26 00:00:00-04:00</th>\n",
       "      <td>217.88</td>\n",
       "      <td>222.090</td>\n",
       "      <td>217.3600</td>\n",
       "      <td>221.15</td>\n",
       "      <td>32650657</td>\n",
       "    </tr>\n",
       "    <tr>\n",
       "      <th>2020-08-27 00:00:00-04:00</th>\n",
       "      <td>222.89</td>\n",
       "      <td>231.150</td>\n",
       "      <td>219.4000</td>\n",
       "      <td>226.57</td>\n",
       "      <td>53612489</td>\n",
       "    </tr>\n",
       "    <tr>\n",
       "      <th>2020-08-28 00:00:00-04:00</th>\n",
       "      <td>228.18</td>\n",
       "      <td>230.644</td>\n",
       "      <td>226.5800</td>\n",
       "      <td>228.94</td>\n",
       "      <td>22493921</td>\n",
       "    </tr>\n",
       "    <tr>\n",
       "      <th>2020-08-31 00:00:00-04:00</th>\n",
       "      <td>227.00</td>\n",
       "      <td>228.700</td>\n",
       "      <td>224.3100</td>\n",
       "      <td>225.06</td>\n",
       "      <td>22743408</td>\n",
       "    </tr>\n",
       "    <tr>\n",
       "      <th>2020-09-01 00:00:00-04:00</th>\n",
       "      <td>225.51</td>\n",
       "      <td>227.450</td>\n",
       "      <td>224.4300</td>\n",
       "      <td>227.32</td>\n",
       "      <td>21619677</td>\n",
       "    </tr>\n",
       "    <tr>\n",
       "      <th>...</th>\n",
       "      <td>...</td>\n",
       "      <td>...</td>\n",
       "      <td>...</td>\n",
       "      <td>...</td>\n",
       "      <td>...</td>\n",
       "    </tr>\n",
       "    <tr>\n",
       "      <th>2021-01-12 00:00:00-05:00</th>\n",
       "      <td>216.50</td>\n",
       "      <td>217.100</td>\n",
       "      <td>213.3202</td>\n",
       "      <td>214.93</td>\n",
       "      <td>20628633</td>\n",
       "    </tr>\n",
       "    <tr>\n",
       "      <th>2021-01-13 00:00:00-05:00</th>\n",
       "      <td>214.02</td>\n",
       "      <td>216.760</td>\n",
       "      <td>213.9266</td>\n",
       "      <td>216.41</td>\n",
       "      <td>16242982</td>\n",
       "    </tr>\n",
       "    <tr>\n",
       "      <th>2021-01-14 00:00:00-05:00</th>\n",
       "      <td>215.91</td>\n",
       "      <td>217.460</td>\n",
       "      <td>212.7400</td>\n",
       "      <td>213.02</td>\n",
       "      <td>22710694</td>\n",
       "    </tr>\n",
       "    <tr>\n",
       "      <th>2021-01-15 00:00:00-05:00</th>\n",
       "      <td>213.52</td>\n",
       "      <td>214.510</td>\n",
       "      <td>212.0300</td>\n",
       "      <td>212.58</td>\n",
       "      <td>24935913</td>\n",
       "    </tr>\n",
       "    <tr>\n",
       "      <th>2021-01-19 00:00:00-05:00</th>\n",
       "      <td>213.75</td>\n",
       "      <td>214.920</td>\n",
       "      <td>213.0528</td>\n",
       "      <td>214.42</td>\n",
       "      <td>4194274</td>\n",
       "    </tr>\n",
       "  </tbody>\n",
       "</table>\n",
       "<p>100 rows × 5 columns</p>\n",
       "</div>"
      ],
      "text/plain": [
       "                             open     high       low   close    volume\n",
       "time                                                                  \n",
       "2020-08-26 00:00:00-04:00  217.88  222.090  217.3600  221.15  32650657\n",
       "2020-08-27 00:00:00-04:00  222.89  231.150  219.4000  226.57  53612489\n",
       "2020-08-28 00:00:00-04:00  228.18  230.644  226.5800  228.94  22493921\n",
       "2020-08-31 00:00:00-04:00  227.00  228.700  224.3100  225.06  22743408\n",
       "2020-09-01 00:00:00-04:00  225.51  227.450  224.4300  227.32  21619677\n",
       "...                           ...      ...       ...     ...       ...\n",
       "2021-01-12 00:00:00-05:00  216.50  217.100  213.3202  214.93  20628633\n",
       "2021-01-13 00:00:00-05:00  214.02  216.760  213.9266  216.41  16242982\n",
       "2021-01-14 00:00:00-05:00  215.91  217.460  212.7400  213.02  22710694\n",
       "2021-01-15 00:00:00-05:00  213.52  214.510  212.0300  212.58  24935913\n",
       "2021-01-19 00:00:00-05:00  213.75  214.920  213.0528  214.42   4194274\n",
       "\n",
       "[100 rows x 5 columns]"
      ]
     },
     "execution_count": 7,
     "metadata": {},
     "output_type": "execute_result"
    }
   ],
   "source": [
    "MSFT.df"
   ]
  },
  {
   "cell_type": "markdown",
   "metadata": {},
   "source": [
    "Pandas has several functions that can help calculate moving averages. Here is an example of a 20-period Simple Moving Average (SMA)"
   ]
  },
  {
   "cell_type": "code",
   "execution_count": 5,
   "metadata": {
    "scrolled": true
   },
   "outputs": [
    {
     "data": {
      "text/plain": [
       "time\n",
       "2020-08-11 00:00:00-04:00          NaN\n",
       "2020-08-12 00:00:00-04:00          NaN\n",
       "2020-08-13 00:00:00-04:00          NaN\n",
       "2020-08-14 00:00:00-04:00          NaN\n",
       "2020-08-17 00:00:00-04:00          NaN\n",
       "                               ...    \n",
       "2020-12-24 00:00:00-05:00    216.53575\n",
       "2020-12-28 00:00:00-05:00    217.01925\n",
       "2020-12-29 00:00:00-05:00    217.52175\n",
       "2020-12-30 00:00:00-05:00    217.79525\n",
       "2020-12-31 00:00:00-05:00    218.14275\n",
       "Name: close, Length: 100, dtype: float64"
      ]
     },
     "execution_count": 5,
     "metadata": {},
     "output_type": "execute_result"
    }
   ],
   "source": [
    "MSFT.df.close.rolling(20).mean()"
   ]
  },
  {
   "cell_type": "markdown",
   "metadata": {},
   "source": [
    "We can access just the last value as follows"
   ]
  },
  {
   "cell_type": "code",
   "execution_count": 6,
   "metadata": {},
   "outputs": [
    {
     "data": {
      "text/plain": [
       "218.14274999999998"
      ]
     },
     "execution_count": 6,
     "metadata": {},
     "output_type": "execute_result"
    }
   ],
   "source": [
    "MSFT.df.close.rolling(20).mean()[-1]"
   ]
  },
  {
   "cell_type": "markdown",
   "metadata": {},
   "source": [
    "# Calculating a moving average manually"
   ]
  },
  {
   "cell_type": "code",
   "execution_count": 9,
   "metadata": {},
   "outputs": [],
   "source": [
    "bars = MSFT[-20:]"
   ]
  },
  {
   "cell_type": "code",
   "execution_count": 8,
   "metadata": {},
   "outputs": [],
   "source": [
    "list_of_closing_prices = [bar.c for bar in bars] # bar.c pulls the closing prices"
   ]
  },
  {
   "cell_type": "code",
   "execution_count": 9,
   "metadata": {},
   "outputs": [],
   "source": [
    "sma20 = sum(list_of_closing_prices) / len(bars)"
   ]
  },
  {
   "cell_type": "code",
   "execution_count": 10,
   "metadata": {},
   "outputs": [
    {
     "data": {
      "text/plain": [
       "218.14275000000004"
      ]
     },
     "execution_count": 10,
     "metadata": {},
     "output_type": "execute_result"
    }
   ],
   "source": [
    "sma20"
   ]
  },
  {
   "cell_type": "markdown",
   "metadata": {},
   "source": [
    "# Calculating an indicator with a library (bta-lib)\n",
    "\n",
    "https://btalib.backtrader.com/indalpha/"
   ]
  },
  {
   "cell_type": "code",
   "execution_count": 10,
   "metadata": {},
   "outputs": [
    {
     "data": {
      "text/html": [
       "<div>\n",
       "<style scoped>\n",
       "    .dataframe tbody tr th:only-of-type {\n",
       "        vertical-align: middle;\n",
       "    }\n",
       "\n",
       "    .dataframe tbody tr th {\n",
       "        vertical-align: top;\n",
       "    }\n",
       "\n",
       "    .dataframe thead th {\n",
       "        text-align: right;\n",
       "    }\n",
       "</style>\n",
       "<table border=\"1\" class=\"dataframe\">\n",
       "  <thead>\n",
       "    <tr style=\"text-align: right;\">\n",
       "      <th></th>\n",
       "      <th>open</th>\n",
       "      <th>high</th>\n",
       "      <th>low</th>\n",
       "      <th>close</th>\n",
       "      <th>volume</th>\n",
       "    </tr>\n",
       "    <tr>\n",
       "      <th>time</th>\n",
       "      <th></th>\n",
       "      <th></th>\n",
       "      <th></th>\n",
       "      <th></th>\n",
       "      <th></th>\n",
       "    </tr>\n",
       "  </thead>\n",
       "  <tbody>\n",
       "    <tr>\n",
       "      <th>2020-08-26 00:00:00-04:00</th>\n",
       "      <td>217.88</td>\n",
       "      <td>222.090</td>\n",
       "      <td>217.3600</td>\n",
       "      <td>221.15</td>\n",
       "      <td>32650657</td>\n",
       "    </tr>\n",
       "    <tr>\n",
       "      <th>2020-08-27 00:00:00-04:00</th>\n",
       "      <td>222.89</td>\n",
       "      <td>231.150</td>\n",
       "      <td>219.4000</td>\n",
       "      <td>226.57</td>\n",
       "      <td>53612489</td>\n",
       "    </tr>\n",
       "    <tr>\n",
       "      <th>2020-08-28 00:00:00-04:00</th>\n",
       "      <td>228.18</td>\n",
       "      <td>230.644</td>\n",
       "      <td>226.5800</td>\n",
       "      <td>228.94</td>\n",
       "      <td>22493921</td>\n",
       "    </tr>\n",
       "    <tr>\n",
       "      <th>2020-08-31 00:00:00-04:00</th>\n",
       "      <td>227.00</td>\n",
       "      <td>228.700</td>\n",
       "      <td>224.3100</td>\n",
       "      <td>225.06</td>\n",
       "      <td>22743408</td>\n",
       "    </tr>\n",
       "    <tr>\n",
       "      <th>2020-09-01 00:00:00-04:00</th>\n",
       "      <td>225.51</td>\n",
       "      <td>227.450</td>\n",
       "      <td>224.4300</td>\n",
       "      <td>227.32</td>\n",
       "      <td>21619677</td>\n",
       "    </tr>\n",
       "    <tr>\n",
       "      <th>...</th>\n",
       "      <td>...</td>\n",
       "      <td>...</td>\n",
       "      <td>...</td>\n",
       "      <td>...</td>\n",
       "      <td>...</td>\n",
       "    </tr>\n",
       "    <tr>\n",
       "      <th>2021-01-12 00:00:00-05:00</th>\n",
       "      <td>216.50</td>\n",
       "      <td>217.100</td>\n",
       "      <td>213.3202</td>\n",
       "      <td>214.93</td>\n",
       "      <td>20628633</td>\n",
       "    </tr>\n",
       "    <tr>\n",
       "      <th>2021-01-13 00:00:00-05:00</th>\n",
       "      <td>214.02</td>\n",
       "      <td>216.760</td>\n",
       "      <td>213.9266</td>\n",
       "      <td>216.41</td>\n",
       "      <td>16242982</td>\n",
       "    </tr>\n",
       "    <tr>\n",
       "      <th>2021-01-14 00:00:00-05:00</th>\n",
       "      <td>215.91</td>\n",
       "      <td>217.460</td>\n",
       "      <td>212.7400</td>\n",
       "      <td>213.02</td>\n",
       "      <td>22710694</td>\n",
       "    </tr>\n",
       "    <tr>\n",
       "      <th>2021-01-15 00:00:00-05:00</th>\n",
       "      <td>213.52</td>\n",
       "      <td>214.510</td>\n",
       "      <td>212.0300</td>\n",
       "      <td>212.58</td>\n",
       "      <td>24935913</td>\n",
       "    </tr>\n",
       "    <tr>\n",
       "      <th>2021-01-19 00:00:00-05:00</th>\n",
       "      <td>213.75</td>\n",
       "      <td>214.920</td>\n",
       "      <td>213.0528</td>\n",
       "      <td>214.42</td>\n",
       "      <td>4194274</td>\n",
       "    </tr>\n",
       "  </tbody>\n",
       "</table>\n",
       "<p>100 rows × 5 columns</p>\n",
       "</div>"
      ],
      "text/plain": [
       "                             open     high       low   close    volume\n",
       "time                                                                  \n",
       "2020-08-26 00:00:00-04:00  217.88  222.090  217.3600  221.15  32650657\n",
       "2020-08-27 00:00:00-04:00  222.89  231.150  219.4000  226.57  53612489\n",
       "2020-08-28 00:00:00-04:00  228.18  230.644  226.5800  228.94  22493921\n",
       "2020-08-31 00:00:00-04:00  227.00  228.700  224.3100  225.06  22743408\n",
       "2020-09-01 00:00:00-04:00  225.51  227.450  224.4300  227.32  21619677\n",
       "...                           ...      ...       ...     ...       ...\n",
       "2021-01-12 00:00:00-05:00  216.50  217.100  213.3202  214.93  20628633\n",
       "2021-01-13 00:00:00-05:00  214.02  216.760  213.9266  216.41  16242982\n",
       "2021-01-14 00:00:00-05:00  215.91  217.460  212.7400  213.02  22710694\n",
       "2021-01-15 00:00:00-05:00  213.52  214.510  212.0300  212.58  24935913\n",
       "2021-01-19 00:00:00-05:00  213.75  214.920  213.0528  214.42   4194274\n",
       "\n",
       "[100 rows x 5 columns]"
      ]
     },
     "execution_count": 10,
     "metadata": {},
     "output_type": "execute_result"
    }
   ],
   "source": [
    "MSFT.df"
   ]
  },
  {
   "cell_type": "code",
   "execution_count": 13,
   "metadata": {},
   "outputs": [],
   "source": [
    "import btalib"
   ]
  },
  {
   "cell_type": "code",
   "execution_count": 16,
   "metadata": {},
   "outputs": [
    {
     "data": {
      "text/html": [
       "<div>\n",
       "<style scoped>\n",
       "    .dataframe tbody tr th:only-of-type {\n",
       "        vertical-align: middle;\n",
       "    }\n",
       "\n",
       "    .dataframe tbody tr th {\n",
       "        vertical-align: top;\n",
       "    }\n",
       "\n",
       "    .dataframe thead th {\n",
       "        text-align: right;\n",
       "    }\n",
       "</style>\n",
       "<table border=\"1\" class=\"dataframe\">\n",
       "  <thead>\n",
       "    <tr style=\"text-align: right;\">\n",
       "      <th></th>\n",
       "      <th>sma</th>\n",
       "    </tr>\n",
       "    <tr>\n",
       "      <th>time</th>\n",
       "      <th></th>\n",
       "    </tr>\n",
       "  </thead>\n",
       "  <tbody>\n",
       "    <tr>\n",
       "      <th>2020-08-26 00:00:00-04:00</th>\n",
       "      <td>NaN</td>\n",
       "    </tr>\n",
       "    <tr>\n",
       "      <th>2020-08-27 00:00:00-04:00</th>\n",
       "      <td>NaN</td>\n",
       "    </tr>\n",
       "    <tr>\n",
       "      <th>2020-08-28 00:00:00-04:00</th>\n",
       "      <td>NaN</td>\n",
       "    </tr>\n",
       "    <tr>\n",
       "      <th>2020-08-31 00:00:00-04:00</th>\n",
       "      <td>NaN</td>\n",
       "    </tr>\n",
       "    <tr>\n",
       "      <th>2020-09-01 00:00:00-04:00</th>\n",
       "      <td>NaN</td>\n",
       "    </tr>\n",
       "    <tr>\n",
       "      <th>...</th>\n",
       "      <td>...</td>\n",
       "    </tr>\n",
       "    <tr>\n",
       "      <th>2021-01-12 00:00:00-05:00</th>\n",
       "      <td>219.3495</td>\n",
       "    </tr>\n",
       "    <tr>\n",
       "      <th>2021-01-13 00:00:00-05:00</th>\n",
       "      <td>219.4605</td>\n",
       "    </tr>\n",
       "    <tr>\n",
       "      <th>2021-01-14 00:00:00-05:00</th>\n",
       "      <td>219.4035</td>\n",
       "    </tr>\n",
       "    <tr>\n",
       "      <th>2021-01-15 00:00:00-05:00</th>\n",
       "      <td>219.0730</td>\n",
       "    </tr>\n",
       "    <tr>\n",
       "      <th>2021-01-19 00:00:00-05:00</th>\n",
       "      <td>218.8230</td>\n",
       "    </tr>\n",
       "  </tbody>\n",
       "</table>\n",
       "<p>100 rows × 1 columns</p>\n",
       "</div>"
      ],
      "text/plain": [
       "                                sma\n",
       "time                               \n",
       "2020-08-26 00:00:00-04:00       NaN\n",
       "2020-08-27 00:00:00-04:00       NaN\n",
       "2020-08-28 00:00:00-04:00       NaN\n",
       "2020-08-31 00:00:00-04:00       NaN\n",
       "2020-09-01 00:00:00-04:00       NaN\n",
       "...                             ...\n",
       "2021-01-12 00:00:00-05:00  219.3495\n",
       "2021-01-13 00:00:00-05:00  219.4605\n",
       "2021-01-14 00:00:00-05:00  219.4035\n",
       "2021-01-15 00:00:00-05:00  219.0730\n",
       "2021-01-19 00:00:00-05:00  218.8230\n",
       "\n",
       "[100 rows x 1 columns]"
      ]
     },
     "execution_count": 16,
     "metadata": {},
     "output_type": "execute_result"
    }
   ],
   "source": [
    "sma20 = btalib.sma(MSFT.df, period=20) # Uses close prices by default\n",
    "sma20.df"
   ]
  },
  {
   "cell_type": "code",
   "execution_count": 17,
   "metadata": {},
   "outputs": [
    {
     "data": {
      "text/html": [
       "<div>\n",
       "<style scoped>\n",
       "    .dataframe tbody tr th:only-of-type {\n",
       "        vertical-align: middle;\n",
       "    }\n",
       "\n",
       "    .dataframe tbody tr th {\n",
       "        vertical-align: top;\n",
       "    }\n",
       "\n",
       "    .dataframe thead th {\n",
       "        text-align: right;\n",
       "    }\n",
       "</style>\n",
       "<table border=\"1\" class=\"dataframe\">\n",
       "  <thead>\n",
       "    <tr style=\"text-align: right;\">\n",
       "      <th></th>\n",
       "      <th>sma</th>\n",
       "    </tr>\n",
       "    <tr>\n",
       "      <th>time</th>\n",
       "      <th></th>\n",
       "    </tr>\n",
       "  </thead>\n",
       "  <tbody>\n",
       "    <tr>\n",
       "      <th>2020-08-26 00:00:00-04:00</th>\n",
       "      <td>NaN</td>\n",
       "    </tr>\n",
       "    <tr>\n",
       "      <th>2020-08-27 00:00:00-04:00</th>\n",
       "      <td>NaN</td>\n",
       "    </tr>\n",
       "    <tr>\n",
       "      <th>2020-08-28 00:00:00-04:00</th>\n",
       "      <td>NaN</td>\n",
       "    </tr>\n",
       "    <tr>\n",
       "      <th>2020-08-31 00:00:00-04:00</th>\n",
       "      <td>NaN</td>\n",
       "    </tr>\n",
       "    <tr>\n",
       "      <th>2020-09-01 00:00:00-04:00</th>\n",
       "      <td>NaN</td>\n",
       "    </tr>\n",
       "    <tr>\n",
       "      <th>...</th>\n",
       "      <td>...</td>\n",
       "    </tr>\n",
       "    <tr>\n",
       "      <th>2021-01-12 00:00:00-05:00</th>\n",
       "      <td>221.24494</td>\n",
       "    </tr>\n",
       "    <tr>\n",
       "      <th>2021-01-13 00:00:00-05:00</th>\n",
       "      <td>221.27244</td>\n",
       "    </tr>\n",
       "    <tr>\n",
       "      <th>2021-01-14 00:00:00-05:00</th>\n",
       "      <td>221.37444</td>\n",
       "    </tr>\n",
       "    <tr>\n",
       "      <th>2021-01-15 00:00:00-05:00</th>\n",
       "      <td>221.09444</td>\n",
       "    </tr>\n",
       "    <tr>\n",
       "      <th>2021-01-19 00:00:00-05:00</th>\n",
       "      <td>220.79594</td>\n",
       "    </tr>\n",
       "  </tbody>\n",
       "</table>\n",
       "<p>100 rows × 1 columns</p>\n",
       "</div>"
      ],
      "text/plain": [
       "                                 sma\n",
       "time                                \n",
       "2020-08-26 00:00:00-04:00        NaN\n",
       "2020-08-27 00:00:00-04:00        NaN\n",
       "2020-08-28 00:00:00-04:00        NaN\n",
       "2020-08-31 00:00:00-04:00        NaN\n",
       "2020-09-01 00:00:00-04:00        NaN\n",
       "...                              ...\n",
       "2021-01-12 00:00:00-05:00  221.24494\n",
       "2021-01-13 00:00:00-05:00  221.27244\n",
       "2021-01-14 00:00:00-05:00  221.37444\n",
       "2021-01-15 00:00:00-05:00  221.09444\n",
       "2021-01-19 00:00:00-05:00  220.79594\n",
       "\n",
       "[100 rows x 1 columns]"
      ]
     },
     "execution_count": 17,
     "metadata": {},
     "output_type": "execute_result"
    }
   ],
   "source": [
    "sma20_high_price = btalib.sma(MSFT.df.high, period=20) # Uses high price by default\n",
    "sma20_high_price.df"
   ]
  },
  {
   "cell_type": "code",
   "execution_count": 14,
   "metadata": {},
   "outputs": [
    {
     "data": {
      "text/plain": [
       "sma    218.14275\n",
       "Name: 2020-12-31 00:00:00-05:00, dtype: float64"
      ]
     },
     "execution_count": 14,
     "metadata": {},
     "output_type": "execute_result"
    }
   ],
   "source": [
    "sma20.df.iloc[-1]"
   ]
  },
  {
   "cell_type": "markdown",
   "metadata": {},
   "source": [
    "Calculating RSI using a library"
   ]
  },
  {
   "cell_type": "code",
   "execution_count": 15,
   "metadata": {},
   "outputs": [],
   "source": [
    "rsi14 = btalib.rsi(MSFT.df)"
   ]
  },
  {
   "cell_type": "code",
   "execution_count": 16,
   "metadata": {},
   "outputs": [
    {
     "data": {
      "text/html": [
       "<div>\n",
       "<style scoped>\n",
       "    .dataframe tbody tr th:only-of-type {\n",
       "        vertical-align: middle;\n",
       "    }\n",
       "\n",
       "    .dataframe tbody tr th {\n",
       "        vertical-align: top;\n",
       "    }\n",
       "\n",
       "    .dataframe thead th {\n",
       "        text-align: right;\n",
       "    }\n",
       "</style>\n",
       "<table border=\"1\" class=\"dataframe\">\n",
       "  <thead>\n",
       "    <tr style=\"text-align: right;\">\n",
       "      <th></th>\n",
       "      <th>rsi</th>\n",
       "    </tr>\n",
       "    <tr>\n",
       "      <th>time</th>\n",
       "      <th></th>\n",
       "    </tr>\n",
       "  </thead>\n",
       "  <tbody>\n",
       "    <tr>\n",
       "      <th>2020-08-11 00:00:00-04:00</th>\n",
       "      <td>NaN</td>\n",
       "    </tr>\n",
       "    <tr>\n",
       "      <th>2020-08-12 00:00:00-04:00</th>\n",
       "      <td>NaN</td>\n",
       "    </tr>\n",
       "    <tr>\n",
       "      <th>2020-08-13 00:00:00-04:00</th>\n",
       "      <td>NaN</td>\n",
       "    </tr>\n",
       "    <tr>\n",
       "      <th>2020-08-14 00:00:00-04:00</th>\n",
       "      <td>NaN</td>\n",
       "    </tr>\n",
       "    <tr>\n",
       "      <th>2020-08-17 00:00:00-04:00</th>\n",
       "      <td>NaN</td>\n",
       "    </tr>\n",
       "    <tr>\n",
       "      <th>...</th>\n",
       "      <td>...</td>\n",
       "    </tr>\n",
       "    <tr>\n",
       "      <th>2020-12-24 00:00:00-05:00</th>\n",
       "      <td>61.050918</td>\n",
       "    </tr>\n",
       "    <tr>\n",
       "      <th>2020-12-28 00:00:00-05:00</th>\n",
       "      <td>64.019389</td>\n",
       "    </tr>\n",
       "    <tr>\n",
       "      <th>2020-12-29 00:00:00-05:00</th>\n",
       "      <td>62.492043</td>\n",
       "    </tr>\n",
       "    <tr>\n",
       "      <th>2020-12-30 00:00:00-05:00</th>\n",
       "      <td>56.806474</td>\n",
       "    </tr>\n",
       "    <tr>\n",
       "      <th>2020-12-31 00:00:00-05:00</th>\n",
       "      <td>57.897048</td>\n",
       "    </tr>\n",
       "  </tbody>\n",
       "</table>\n",
       "<p>100 rows × 1 columns</p>\n",
       "</div>"
      ],
      "text/plain": [
       "                                 rsi\n",
       "time                                \n",
       "2020-08-11 00:00:00-04:00        NaN\n",
       "2020-08-12 00:00:00-04:00        NaN\n",
       "2020-08-13 00:00:00-04:00        NaN\n",
       "2020-08-14 00:00:00-04:00        NaN\n",
       "2020-08-17 00:00:00-04:00        NaN\n",
       "...                              ...\n",
       "2020-12-24 00:00:00-05:00  61.050918\n",
       "2020-12-28 00:00:00-05:00  64.019389\n",
       "2020-12-29 00:00:00-05:00  62.492043\n",
       "2020-12-30 00:00:00-05:00  56.806474\n",
       "2020-12-31 00:00:00-05:00  57.897048\n",
       "\n",
       "[100 rows x 1 columns]"
      ]
     },
     "execution_count": 16,
     "metadata": {},
     "output_type": "execute_result"
    }
   ],
   "source": [
    "rsi14.df"
   ]
  }
 ],
 "metadata": {
  "kernelspec": {
   "display_name": "Python 3",
   "language": "python",
   "name": "python3"
  },
  "language_info": {
   "codemirror_mode": {
    "name": "ipython",
    "version": 3
   },
   "file_extension": ".py",
   "mimetype": "text/x-python",
   "name": "python",
   "nbconvert_exporter": "python",
   "pygments_lexer": "ipython3",
   "version": "3.8.5"
  }
 },
 "nbformat": 4,
 "nbformat_minor": 2
}
