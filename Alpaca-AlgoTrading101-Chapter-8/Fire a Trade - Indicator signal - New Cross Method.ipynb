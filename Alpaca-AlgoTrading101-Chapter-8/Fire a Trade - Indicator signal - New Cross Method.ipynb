{
 "cells": [
  {
   "cell_type": "code",
   "execution_count": null,
   "metadata": {},
   "outputs": [],
   "source": [
    "import alpaca_trade_api as tradeapi\n",
    "import time\n",
    "\n",
    "api_key = '<insert api key>'\n",
    "api_secret = '<insert secret>'\n",
    "base_url = 'https://paper-api.alpaca.markets'\n",
    "\n",
    "api = tradeapi.REST(api_key, api_secret, base_url, api_version='v2')\n",
    "account = api.get_account()\n",
    "account\n",
    "\n",
    "# https://github.com/alpacahq/alpaca-trade-api-python/tree/cd22b3393aff8df214d867b6a4723a21ea34a3c0"
   ]
  },
  {
   "cell_type": "code",
   "execution_count": null,
   "metadata": {},
   "outputs": [],
   "source": [
    "# Fire if TSLA Price change in the last 5 days is > 5%\n",
    "\n",
    "order_sent = None\n",
    "\n",
    "while not order_sent:\n",
    "\n",
    "    barset = api.get_barset('TSLA',\n",
    "               'day',\n",
    "               limit = 10).df['TSLA']\n",
    "\n",
    "    today_close = barset['close'][-1]\n",
    "    five_days_ago_close = barset['close'][-6]\n",
    "\n",
    "    percent_change = (today_close - five_days_ago_close)/five_days_ago_close*100\n",
    "\n",
    "    order_info = None\n",
    "\n",
    "    if percent_change > 2:\n",
    "        order_info = api.submit_order(\n",
    "        symbol='TSLA',\n",
    "        side='buy',\n",
    "        type='limit',\n",
    "        qty='2',\n",
    "        time_in_force='day',\n",
    "        limit_price=800,\n",
    "        extended_hours=True,\n",
    "        )\n",
    "        if order_info.status == 'accepted':\n",
    "            order_sent = True\n",
    "    \n",
    "    print(percent_change)\n",
    "    print(today_close)\n",
    "    time.sleep(10)\n",
    "    \n",
    "order_info"
   ]
  }
 ],
 "metadata": {
  "kernelspec": {
   "display_name": "Python 3",
   "language": "python",
   "name": "python3"
  },
  "language_info": {
   "codemirror_mode": {
    "name": "ipython",
    "version": 3
   },
   "file_extension": ".py",
   "mimetype": "text/x-python",
   "name": "python",
   "nbconvert_exporter": "python",
   "pygments_lexer": "ipython3",
   "version": "3.8.5"
  }
 },
 "nbformat": 4,
 "nbformat_minor": 4
}
