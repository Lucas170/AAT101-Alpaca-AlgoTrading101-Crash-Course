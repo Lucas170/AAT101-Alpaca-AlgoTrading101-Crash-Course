{
 "cells": [
  {
   "cell_type": "code",
   "execution_count": 1,
   "metadata": {},
   "outputs": [
    {
     "data": {
      "text/plain": [
       "Account({   'account_blocked': False,\n",
       "    'account_number': 'PA2E0F7YERPO',\n",
       "    'buying_power': '436162.13',\n",
       "    'cash': '124675.88',\n",
       "    'created_at': '2020-11-17T17:28:00.960389Z',\n",
       "    'currency': 'USD',\n",
       "    'daytrade_count': 152,\n",
       "    'daytrading_buying_power': '436162.13',\n",
       "    'equity': '112030.73',\n",
       "    'id': '7f81289d-15ed-40ed-85a3-1e831cce3b12',\n",
       "    'initial_margin': '6322.575',\n",
       "    'last_equity': '112177.97',\n",
       "    'last_maintenance_margin': '0',\n",
       "    'long_market_value': '0',\n",
       "    'maintenance_margin': '3793.545',\n",
       "    'multiplier': '4',\n",
       "    'pattern_day_trader': False,\n",
       "    'portfolio_value': '112030.73',\n",
       "    'regt_buying_power': '211416.31',\n",
       "    'short_market_value': '-12645.15',\n",
       "    'shorting_enabled': True,\n",
       "    'sma': '0',\n",
       "    'status': 'ACTIVE',\n",
       "    'trade_suspended_by_user': False,\n",
       "    'trading_blocked': False,\n",
       "    'transfers_blocked': False})"
      ]
     },
     "execution_count": 1,
     "metadata": {},
     "output_type": "execute_result"
    }
   ],
   "source": [
    "import alpaca_trade_api as tradeapi\n",
    "import time\n",
    "\n",
    "api_key = '<insert api key>'\n",
    "api_secret = '<insert secret>'\n",
    "base_url = 'https://paper-api.alpaca.markets'\n",
    "\n",
    "api = tradeapi.REST(api_key, api_secret, base_url, api_version='v2')\n",
    "account = api.get_account()\n",
    "account\n",
    "\n",
    "# https://github.com/alpacahq/alpaca-trade-api-python/tree/cd22b3393aff8df214d867b6a4723a21ea34a3c0"
   ]
  },
  {
   "cell_type": "code",
   "execution_count": null,
   "metadata": {},
   "outputs": [],
   "source": [
    "# Fire if TSLA Price change in the last 5 days is > 5%\n",
    "\n",
    "order_sent = None\n",
    "\n",
    "while not order_sent:\n",
    "\n",
    "    barset = api.get_barset('TSLA',\n",
    "               'day',\n",
    "               limit = 10).df['TSLA']\n",
    "\n",
    "    today_close = barset['close'][-1]\n",
    "    five_days_ago_close = barset['close'][-6]\n",
    "\n",
    "    percent_change = (today_close - five_days_ago_close)/five_days_ago_close*100\n",
    "\n",
    "    order_info = None\n",
    "\n",
    "    if percent_change > 2:\n",
    "        order_info = api.submit_order(\n",
    "        symbol='TSLA',\n",
    "        side='buy',\n",
    "        type='limit',\n",
    "        qty='2',\n",
    "        time_in_force='day',\n",
    "        limit_price=800,\n",
    "        extended_hours=True,\n",
    "        )\n",
    "        if order_info.status == 'accepted':\n",
    "            order_sent = True\n",
    "    \n",
    "    print(percent_change)\n",
    "    print(today_close)\n",
    "    time.sleep(10)\n",
    "    \n",
    "order_info"
   ]
  },
  {
   "cell_type": "code",
   "execution_count": 17,
   "metadata": {
    "collapsed": true
   },
   "outputs": [
    {
     "name": "stdout",
     "output_type": "stream",
     "text": [
      "4.107596341132677\n",
      "844.5\n"
     ]
    },
    {
     "data": {
      "text/plain": [
       "Order({   'asset_class': 'us_equity',\n",
       "    'asset_id': '8ccae427-5dd0-45b3-b5fe-7ba5e422c766',\n",
       "    'canceled_at': None,\n",
       "    'client_order_id': 'e2cb20f8-b5cb-4748-b7d4-f12c8170c267',\n",
       "    'created_at': '2021-01-19T21:41:23.472956Z',\n",
       "    'expired_at': None,\n",
       "    'extended_hours': True,\n",
       "    'failed_at': None,\n",
       "    'filled_at': None,\n",
       "    'filled_avg_price': None,\n",
       "    'filled_qty': '0',\n",
       "    'hwm': None,\n",
       "    'id': 'c5a455e2-8939-4b8c-98e7-984b08f9b7c6',\n",
       "    'legs': None,\n",
       "    'limit_price': '800',\n",
       "    'order_class': '',\n",
       "    'order_type': 'limit',\n",
       "    'qty': '2',\n",
       "    'replaced_at': None,\n",
       "    'replaced_by': None,\n",
       "    'replaces': None,\n",
       "    'side': 'buy',\n",
       "    'status': 'accepted',\n",
       "    'stop_price': None,\n",
       "    'submitted_at': '2021-01-19T21:41:23.470662Z',\n",
       "    'symbol': 'TSLA',\n",
       "    'time_in_force': 'day',\n",
       "    'trail_percent': None,\n",
       "    'trail_price': None,\n",
       "    'type': 'limit',\n",
       "    'updated_at': '2021-01-19T21:41:23.472956Z'})"
      ]
     },
     "execution_count": 17,
     "metadata": {},
     "output_type": "execute_result"
    }
   ],
   "source": [
    "# Fire if TSLA Price change in the last 5 days is > 5% + TSLA's daily RSI(20) < 30\n",
    "\n",
    "import btalib\n",
    "\n",
    "# Code this part on your own!\n",
    "\n",
    "\n",
    "\n",
    "\n",
    "\n"
   ]
  },
  {
   "cell_type": "code",
   "execution_count": 5,
   "metadata": {
    "collapsed": true
   },
   "outputs": [
    {
     "name": "stdout",
     "output_type": "stream",
     "text": [
      "4.107596341132677\n",
      "844.5\n"
     ]
    },
    {
     "data": {
      "text/plain": [
       "Order({   'asset_class': 'us_equity',\n",
       "    'asset_id': '8ccae427-5dd0-45b3-b5fe-7ba5e422c766',\n",
       "    'canceled_at': None,\n",
       "    'client_order_id': '4ce15663-21f2-43f0-91af-f846a04b410c',\n",
       "    'created_at': '2021-01-19T21:44:09.976465Z',\n",
       "    'expired_at': None,\n",
       "    'extended_hours': True,\n",
       "    'failed_at': None,\n",
       "    'filled_at': None,\n",
       "    'filled_avg_price': None,\n",
       "    'filled_qty': '0',\n",
       "    'hwm': None,\n",
       "    'id': '8bae487d-7864-45d5-a3a3-fd23de7de7b6',\n",
       "    'legs': None,\n",
       "    'limit_price': '800',\n",
       "    'order_class': '',\n",
       "    'order_type': 'limit',\n",
       "    'qty': '2',\n",
       "    'replaced_at': None,\n",
       "    'replaced_by': None,\n",
       "    'replaces': None,\n",
       "    'side': 'buy',\n",
       "    'status': 'accepted',\n",
       "    'stop_price': None,\n",
       "    'submitted_at': '2021-01-19T21:44:09.974671Z',\n",
       "    'symbol': 'TSLA',\n",
       "    'time_in_force': 'day',\n",
       "    'trail_percent': None,\n",
       "    'trail_price': None,\n",
       "    'type': 'limit',\n",
       "    'updated_at': '2021-01-19T21:44:09.976465Z'})"
      ]
     },
     "execution_count": 5,
     "metadata": {},
     "output_type": "execute_result"
    }
   ],
   "source": [
    "# Fire if TSLA's daily RSI(20) crosses 30 from the bottom\n",
    "\n",
    "import btalib\n",
    "\n",
    "# Code this part on your own!\n",
    "\n",
    "\n",
    "\n",
    "\n",
    "\n",
    "\n"
   ]
  }
 ],
 "metadata": {
  "kernelspec": {
   "display_name": "Python 3",
   "language": "python",
   "name": "python3"
  },
  "language_info": {
   "codemirror_mode": {
    "name": "ipython",
    "version": 3
   },
   "file_extension": ".py",
   "mimetype": "text/x-python",
   "name": "python",
   "nbconvert_exporter": "python",
   "pygments_lexer": "ipython3",
   "version": "3.8.5"
  }
 },
 "nbformat": 4,
 "nbformat_minor": 4
}
